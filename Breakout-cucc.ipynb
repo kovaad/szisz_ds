{
 "cells": [
  {
   "cell_type": "code",
   "execution_count": 201,
   "id": "agricultural-dance",
   "metadata": {},
   "outputs": [],
   "source": [
    "import pandas as pd\n",
    "import numpy as np"
   ]
  },
  {
   "cell_type": "code",
   "execution_count": 2,
   "id": "liberal-perry",
   "metadata": {},
   "outputs": [],
   "source": [
    "path='C:/ds101/data/breakout/'"
   ]
  },
  {
   "cell_type": "code",
   "execution_count": 3,
   "id": "subtle-declaration",
   "metadata": {},
   "outputs": [],
   "source": [
    "files=[path+f\"data_{i:0>2}.csv\" for i in range(1,14)]"
   ]
  },
  {
   "cell_type": "code",
   "execution_count": 4,
   "id": "gross-profession",
   "metadata": {},
   "outputs": [
    {
     "data": {
      "text/plain": [
       "['C:/ds101/data/breakout/data_01.csv',\n",
       " 'C:/ds101/data/breakout/data_02.csv',\n",
       " 'C:/ds101/data/breakout/data_03.csv',\n",
       " 'C:/ds101/data/breakout/data_04.csv',\n",
       " 'C:/ds101/data/breakout/data_05.csv',\n",
       " 'C:/ds101/data/breakout/data_06.csv',\n",
       " 'C:/ds101/data/breakout/data_07.csv',\n",
       " 'C:/ds101/data/breakout/data_08.csv',\n",
       " 'C:/ds101/data/breakout/data_09.csv',\n",
       " 'C:/ds101/data/breakout/data_10.csv',\n",
       " 'C:/ds101/data/breakout/data_11.csv',\n",
       " 'C:/ds101/data/breakout/data_12.csv',\n",
       " 'C:/ds101/data/breakout/data_13.csv']"
      ]
     },
     "execution_count": 4,
     "metadata": {},
     "output_type": "execute_result"
    }
   ],
   "source": [
    "files"
   ]
  },
  {
   "cell_type": "code",
   "execution_count": 49,
   "id": "suffering-above",
   "metadata": {},
   "outputs": [],
   "source": [
    "def read_csv(path):\n",
    "    with open(path) as f:\n",
    "        data=f.read()\n",
    "        \n",
    "    comma_cnt=data.count(',')\n",
    "    semicol_cnt=data.count(';')\n",
    "    if comma_cnt<semicol_cnt:\n",
    "        return pd.read_csv(path,delimiter=';')\n",
    "    return pd.read_csv(path)"
   ]
  },
  {
   "cell_type": "code",
   "execution_count": 6,
   "id": "capable-rough",
   "metadata": {},
   "outputs": [
    {
     "name": "stdout",
     "output_type": "stream",
     "text": [
      "C:/ds101/data/breakout/data_12.csv\n"
     ]
    }
   ],
   "source": [
    "frames=[]\n",
    "for file in files:\n",
    "    if file.endswith('05.csv'):\n",
    "        continue\n",
    "    try:\n",
    "        df=read_csv(file)\n",
    "        if file.endswith('12.csv'):\n",
    "            df=df.transpose()\n",
    "        if all([col.startswith('Unnamed') for col in df.columns]):\n",
    "            print(file)\n",
    "        frames.append(df)\n",
    "    except:\n",
    "        print(file)"
   ]
  },
  {
   "cell_type": "code",
   "execution_count": 7,
   "id": "statewide-sword",
   "metadata": {},
   "outputs": [
    {
     "data": {
      "text/plain": [
       "Index(['date', 'gender', 'age', 'has_worked', 'hours_studied', 'wakeup_time',\n",
       "       'bed_time', 'n_coffein', 'screen_time', 'has_meat', 'exercise_hours',\n",
       "       'water', 'social_hours', 'newspaper_time', 'fatigue_score',\n",
       "       'democracy_score', 'happiness_score', 'newspaper_score',\n",
       "       'demokrcy_score', 'Unnamed: 0', 'wakup_time', 'water_litre',\n",
       "       'exercise_time', 'Gender', 'Age', 'fatique_score', 'hours_study',\n",
       "       'newpaper_time', 'hapiness_score', 'has worked', 'hours studied',\n",
       "       'wake up time', 'bed time', 'has meat', 'excercise hours',\n",
       "       'social hours', 'newspaper', 'fatigue', 'democracy', 'happiness'],\n",
       "      dtype='object')"
      ]
     },
     "execution_count": 7,
     "metadata": {},
     "output_type": "execute_result"
    }
   ],
   "source": [
    "dfs=pd.concat(frames)\n",
    "dfs.columns"
   ]
  },
  {
   "cell_type": "code",
   "execution_count": 241,
   "id": "loaded-twist",
   "metadata": {
    "scrolled": true
   },
   "outputs": [
    {
     "name": "stderr",
     "output_type": "stream",
     "text": [
      "<ipython-input-241-ab21fe62ab36>:12: SettingWithCopyWarning: \n",
      "A value is trying to be set on a copy of a slice from a DataFrame\n",
      "\n",
      "See the caveats in the documentation: https://pandas.pydata.org/pandas-docs/stable/user_guide/indexing.html#returning-a-view-versus-a-copy\n",
      "  new_header['index'] = 'date'\n"
     ]
    }
   ],
   "source": [
    "b = pd.DataFrame()\n",
    "a = read_csv(files[0])\n",
    "new_cols = a.columns\n",
    "idx = -1\n",
    "for file in files:\n",
    "    a = read_csv(file)\n",
    "    a = a.dropna(how = 'all')\n",
    "    if file.endswith('12.csv'):\n",
    "            a=a.transpose()\n",
    "            a = a.reset_index()\n",
    "            new_header = a.iloc[0] \n",
    "            new_header['index'] = 'date'\n",
    "            a = a[1:] \n",
    "            a.columns = new_header\n",
    "    a.columns = new_cols\n",
    "    idx = idx + 1\n",
    "    a['user_id'] = idx\n",
    "    b = pd.concat([b,a])\n",
    "b = b.reset_index(drop = True)"
   ]
  },
  {
   "cell_type": "code",
   "execution_count": 243,
   "id": "classified-analysis",
   "metadata": {},
   "outputs": [
    {
     "data": {
      "text/html": [
       "<div>\n",
       "<style scoped>\n",
       "    .dataframe tbody tr th:only-of-type {\n",
       "        vertical-align: middle;\n",
       "    }\n",
       "\n",
       "    .dataframe tbody tr th {\n",
       "        vertical-align: top;\n",
       "    }\n",
       "\n",
       "    .dataframe thead th {\n",
       "        text-align: right;\n",
       "    }\n",
       "</style>\n",
       "<table border=\"1\" class=\"dataframe\">\n",
       "  <thead>\n",
       "    <tr style=\"text-align: right;\">\n",
       "      <th></th>\n",
       "      <th>date</th>\n",
       "      <th>gender</th>\n",
       "      <th>age</th>\n",
       "      <th>has_worked</th>\n",
       "      <th>hours_studied</th>\n",
       "      <th>wakeup_time</th>\n",
       "      <th>bed_time</th>\n",
       "      <th>n_coffein</th>\n",
       "      <th>screen_time</th>\n",
       "      <th>has_meat</th>\n",
       "      <th>exercise_hours</th>\n",
       "      <th>water</th>\n",
       "      <th>social_hours</th>\n",
       "      <th>newspaper_time</th>\n",
       "      <th>fatigue_score</th>\n",
       "      <th>democracy_score</th>\n",
       "      <th>happiness_score</th>\n",
       "      <th>user_id</th>\n",
       "    </tr>\n",
       "  </thead>\n",
       "  <tbody>\n",
       "    <tr>\n",
       "      <th>0</th>\n",
       "      <td>2021-03-02</td>\n",
       "      <td>male</td>\n",
       "      <td>36.0</td>\n",
       "      <td>1</td>\n",
       "      <td>0.0</td>\n",
       "      <td>9:00</td>\n",
       "      <td>3:00</td>\n",
       "      <td>4.0</td>\n",
       "      <td>13.0</td>\n",
       "      <td>1</td>\n",
       "      <td>0</td>\n",
       "      <td>1</td>\n",
       "      <td>2.0</td>\n",
       "      <td>1</td>\n",
       "      <td>3.0</td>\n",
       "      <td>5.0</td>\n",
       "      <td>5.0</td>\n",
       "      <td>0</td>\n",
       "    </tr>\n",
       "    <tr>\n",
       "      <th>1</th>\n",
       "      <td>2021-03-03</td>\n",
       "      <td>male</td>\n",
       "      <td>36.0</td>\n",
       "      <td>1</td>\n",
       "      <td>2.5</td>\n",
       "      <td>8:50</td>\n",
       "      <td>2:30</td>\n",
       "      <td>4.0</td>\n",
       "      <td>12.0</td>\n",
       "      <td>1</td>\n",
       "      <td>0</td>\n",
       "      <td>1</td>\n",
       "      <td>3.0</td>\n",
       "      <td>1</td>\n",
       "      <td>4.0</td>\n",
       "      <td>5.0</td>\n",
       "      <td>6.0</td>\n",
       "      <td>0</td>\n",
       "    </tr>\n",
       "    <tr>\n",
       "      <th>2</th>\n",
       "      <td>2021-03-04</td>\n",
       "      <td>male</td>\n",
       "      <td>36.0</td>\n",
       "      <td>1</td>\n",
       "      <td>3.0</td>\n",
       "      <td>8:30</td>\n",
       "      <td>3:30</td>\n",
       "      <td>4.0</td>\n",
       "      <td>13.0</td>\n",
       "      <td>1</td>\n",
       "      <td>0</td>\n",
       "      <td>1</td>\n",
       "      <td>2.0</td>\n",
       "      <td>1</td>\n",
       "      <td>4.0</td>\n",
       "      <td>5.0</td>\n",
       "      <td>5.0</td>\n",
       "      <td>0</td>\n",
       "    </tr>\n",
       "    <tr>\n",
       "      <th>3</th>\n",
       "      <td>2021-03-05</td>\n",
       "      <td>male</td>\n",
       "      <td>36.0</td>\n",
       "      <td>1</td>\n",
       "      <td>0.0</td>\n",
       "      <td>8:30</td>\n",
       "      <td>0:00</td>\n",
       "      <td>4.0</td>\n",
       "      <td>7.0</td>\n",
       "      <td>1</td>\n",
       "      <td>1</td>\n",
       "      <td>1,5</td>\n",
       "      <td>12.0</td>\n",
       "      <td>0,5</td>\n",
       "      <td>5.0</td>\n",
       "      <td>5.0</td>\n",
       "      <td>6.0</td>\n",
       "      <td>0</td>\n",
       "    </tr>\n",
       "    <tr>\n",
       "      <th>4</th>\n",
       "      <td>2021-03-06</td>\n",
       "      <td>male</td>\n",
       "      <td>36.0</td>\n",
       "      <td>0</td>\n",
       "      <td>0.0</td>\n",
       "      <td>6:30</td>\n",
       "      <td>0:30</td>\n",
       "      <td>4.0</td>\n",
       "      <td>4.0</td>\n",
       "      <td>1</td>\n",
       "      <td>1</td>\n",
       "      <td>1</td>\n",
       "      <td>14.0</td>\n",
       "      <td>0</td>\n",
       "      <td>6.0</td>\n",
       "      <td>5.0</td>\n",
       "      <td>6.0</td>\n",
       "      <td>0</td>\n",
       "    </tr>\n",
       "  </tbody>\n",
       "</table>\n",
       "</div>"
      ],
      "text/plain": [
       "         date gender   age has_worked hours_studied wakeup_time bed_time  \\\n",
       "0  2021-03-02   male  36.0          1           0.0        9:00     3:00   \n",
       "1  2021-03-03   male  36.0          1           2.5        8:50     2:30   \n",
       "2  2021-03-04   male  36.0          1           3.0        8:30     3:30   \n",
       "3  2021-03-05   male  36.0          1           0.0        8:30     0:00   \n",
       "4  2021-03-06   male  36.0          0           0.0        6:30     0:30   \n",
       "\n",
       "  n_coffein screen_time has_meat exercise_hours water social_hours  \\\n",
       "0       4.0        13.0        1              0     1          2.0   \n",
       "1       4.0        12.0        1              0     1          3.0   \n",
       "2       4.0        13.0        1              0     1          2.0   \n",
       "3       4.0         7.0        1              1   1,5         12.0   \n",
       "4       4.0         4.0        1              1     1         14.0   \n",
       "\n",
       "  newspaper_time fatigue_score democracy_score happiness_score  user_id  \n",
       "0              1           3.0             5.0             5.0        0  \n",
       "1              1           4.0             5.0             6.0        0  \n",
       "2              1           4.0             5.0             5.0        0  \n",
       "3            0,5           5.0             5.0             6.0        0  \n",
       "4              0           6.0             5.0             6.0        0  "
      ]
     },
     "execution_count": 243,
     "metadata": {},
     "output_type": "execute_result"
    }
   ],
   "source": [
    "b.head()"
   ]
  },
  {
   "cell_type": "code",
   "execution_count": 242,
   "id": "coordinated-clock",
   "metadata": {},
   "outputs": [
    {
     "data": {
      "text/plain": [
       "176"
      ]
     },
     "execution_count": 242,
     "metadata": {},
     "output_type": "execute_result"
    }
   ],
   "source": [
    "len(b)"
   ]
  },
  {
   "cell_type": "code",
   "execution_count": 258,
   "id": "interesting-reception",
   "metadata": {},
   "outputs": [],
   "source": [
    "#change gender column values to categorical\n",
    "\n",
    "b['gender'] = b['gender'].replace(['male', 'M', 1.0], 'male')\n",
    "\n",
    "b['gender'] = b['gender'].replace(['female', 'women', 'Female'], 'female')"
   ]
  },
  {
   "cell_type": "code",
   "execution_count": 259,
   "id": "portable-fantasy",
   "metadata": {
    "scrolled": false
   },
   "outputs": [
    {
     "data": {
      "text/plain": [
       "array(['male', 'female'], dtype=object)"
      ]
     },
     "execution_count": 259,
     "metadata": {},
     "output_type": "execute_result"
    }
   ],
   "source": [
    "b['gender'].unique()"
   ]
  },
  {
   "cell_type": "code",
   "execution_count": 271,
   "id": "copyrighted-poker",
   "metadata": {},
   "outputs": [],
   "source": [
    "b['age'] = b['age'].astype('int')"
   ]
  },
  {
   "cell_type": "code",
   "execution_count": 274,
   "id": "dominican-seattle",
   "metadata": {},
   "outputs": [
    {
     "data": {
      "text/plain": [
       "array([1., 0.])"
      ]
     },
     "execution_count": 274,
     "metadata": {},
     "output_type": "execute_result"
    }
   ],
   "source": [
    "b['has_worked'].unique()"
   ]
  },
  {
   "cell_type": "code",
   "execution_count": 273,
   "id": "abstract-defendant",
   "metadata": {},
   "outputs": [],
   "source": [
    "#change has_worked column values to numeric (0,1))\n",
    "\n",
    "b['has_worked'] = b['has_worked'].replace(['1', 'yes', 'Y'], 1)\n",
    "\n",
    "b['has_worked'] = b['has_worked'].replace(['0', 'no', 'N'], 0)"
   ]
  },
  {
   "cell_type": "code",
   "execution_count": 275,
   "id": "handmade-envelope",
   "metadata": {},
   "outputs": [],
   "source": [
    "b['has_worked'] = b['has_worked'].astype('int')"
   ]
  },
  {
   "cell_type": "code",
   "execution_count": 276,
   "id": "chief-pitch",
   "metadata": {},
   "outputs": [
    {
     "data": {
      "text/plain": [
       "array([0.0, 2.5, 3.0, 1.0, 2.0, 6.0, 8.0, 5.0, 10.0, 9.0, 7.0, 4.0, '3',\n",
       "       '4,5', '1,5', '5,5', '2', '5', '6', '1', 12, 1.5, nan, '1,50',\n",
       "       '0,00', '2,50', '3,00', '6,00', '0,5', '0'], dtype=object)"
      ]
     },
     "execution_count": 276,
     "metadata": {},
     "output_type": "execute_result"
    }
   ],
   "source": [
    "b['hours_studied'].unique()"
   ]
  },
  {
   "cell_type": "code",
   "execution_count": null,
   "id": "excessive-drive",
   "metadata": {},
   "outputs": [],
   "source": [
    "df['date'] = pd.date_range(start='1/1/1979', periods=len(df), freq='D')"
   ]
  },
  {
   "cell_type": "code",
   "execution_count": 195,
   "id": "hispanic-bullet",
   "metadata": {},
   "outputs": [],
   "source": [
    "b.to_csv(path + \"/final.csv\")"
   ]
  },
  {
   "cell_type": "code",
   "execution_count": null,
   "id": "beneficial-cliff",
   "metadata": {},
   "outputs": [],
   "source": []
  }
 ],
 "metadata": {
  "kernelspec": {
   "display_name": "Python 3",
   "language": "python",
   "name": "python3"
  },
  "language_info": {
   "codemirror_mode": {
    "name": "ipython",
    "version": 3
   },
   "file_extension": ".py",
   "mimetype": "text/x-python",
   "name": "python",
   "nbconvert_exporter": "python",
   "pygments_lexer": "ipython3",
   "version": "3.8.5"
  }
 },
 "nbformat": 4,
 "nbformat_minor": 5
}
